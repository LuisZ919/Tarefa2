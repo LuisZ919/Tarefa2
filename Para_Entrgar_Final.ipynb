{
  "nbformat": 4,
  "nbformat_minor": 0,
  "metadata": {
    "colab": {
      "provenance": [],
      "authorship_tag": "ABX9TyPHlMLaLLuLZ7He5myDImzZ",
      "include_colab_link": true
    },
    "kernelspec": {
      "name": "python3",
      "display_name": "Python 3"
    },
    "language_info": {
      "name": "python"
    }
  },
  "cells": [
    {
      "cell_type": "markdown",
      "metadata": {
        "id": "view-in-github",
        "colab_type": "text"
      },
      "source": [
        "<a href=\"https://colab.research.google.com/github/LuisZ919/Tarefa2/blob/main/Para_Entrgar_Final.ipynb\" target=\"_parent\"><img src=\"https://colab.research.google.com/assets/colab-badge.svg\" alt=\"Open In Colab\"/></a>"
      ]
    },
    {
      "cell_type": "markdown",
      "source": [
        "1.Dada la lista [2,56,8,-6,32,,5,6,7,-76] en una sola instruccion, filtrar los negativos, sumarle a todos los elementos de la lista resultante 100 y ordenarlos.\n",
        "\n",
        "\n",
        "[54]\n",
        "0 s\n"
      ],
      "metadata": {
        "id": "WtokO_dcjNfT"
      }
    },
    {
      "cell_type": "code",
      "execution_count": 1,
      "metadata": {
        "colab": {
          "base_uri": "https://localhost:8080/"
        },
        "id": "wq4MLausjMxz",
        "outputId": "c921bb07-e81a-4f88-80cd-e3ec5b1d0b60"
      },
      "outputs": [
        {
          "output_type": "execute_result",
          "data": {
            "text/plain": [
              "[102, 105, 106, 107, 108, 132, 156]"
            ]
          },
          "metadata": {},
          "execution_count": 1
        }
      ],
      "source": [
        "lista = [2,56,8,-6,32,5,6,7,-76]\n",
        "#sorted([x + 100 for x in lista if x >= 0])\n",
        "\n",
        "sorted(map(lambda x: x + 100, filter(lambda x: x >= 0, lista)))\n"
      ]
    }
  ]
}